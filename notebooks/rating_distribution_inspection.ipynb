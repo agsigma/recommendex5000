{
 "cells": [
  {
   "cell_type": "code",
   "execution_count": 188,
   "metadata": {},
   "outputs": [],
   "source": [
    "import pandas as pd\n",
    "import numpy as np\n",
    "from typing import Set, Dict, List\n",
    "import json\n",
    "from ast import literal_eval\n",
    "from collections import defaultdict\n",
    "from matplotlib import pyplot as plt"
   ]
  },
  {
   "cell_type": "code",
   "execution_count": 132,
   "metadata": {},
   "outputs": [],
   "source": [
    "SelectedGenres: List[str] = ['Science Fiction', 'Action', 'Drama', 'Thriller', 'Adventure', 'Fantasy', 'Comedy', 'Horror']"
   ]
  },
  {
   "cell_type": "code",
   "execution_count": 121,
   "metadata": {},
   "outputs": [
    {
     "name": "stderr",
     "output_type": "stream",
     "text": [
      "/home/sigma/anaconda3/lib/python3.8/site-packages/IPython/core/interactiveshell.py:3165: DtypeWarning: Columns (10) have mixed types.Specify dtype option on import or set low_memory=False.\n",
      "  has_raised = await self.run_ast_nodes(code_ast.body, cell_name,\n"
     ]
    },
    {
     "data": {
      "text/html": [
       "<div>\n",
       "<style scoped>\n",
       "    .dataframe tbody tr th:only-of-type {\n",
       "        vertical-align: middle;\n",
       "    }\n",
       "\n",
       "    .dataframe tbody tr th {\n",
       "        vertical-align: top;\n",
       "    }\n",
       "\n",
       "    .dataframe thead th {\n",
       "        text-align: right;\n",
       "    }\n",
       "</style>\n",
       "<table border=\"1\" class=\"dataframe\">\n",
       "  <thead>\n",
       "    <tr style=\"text-align: right;\">\n",
       "      <th></th>\n",
       "      <th>userId</th>\n",
       "      <th>movieId</th>\n",
       "      <th>rating</th>\n",
       "      <th>timestamp</th>\n",
       "    </tr>\n",
       "  </thead>\n",
       "  <tbody>\n",
       "    <tr>\n",
       "      <th>0</th>\n",
       "      <td>1</td>\n",
       "      <td>31</td>\n",
       "      <td>2.5</td>\n",
       "      <td>1260759144</td>\n",
       "    </tr>\n",
       "    <tr>\n",
       "      <th>1</th>\n",
       "      <td>1</td>\n",
       "      <td>1029</td>\n",
       "      <td>3.0</td>\n",
       "      <td>1260759179</td>\n",
       "    </tr>\n",
       "    <tr>\n",
       "      <th>2</th>\n",
       "      <td>1</td>\n",
       "      <td>1061</td>\n",
       "      <td>3.0</td>\n",
       "      <td>1260759182</td>\n",
       "    </tr>\n",
       "    <tr>\n",
       "      <th>3</th>\n",
       "      <td>1</td>\n",
       "      <td>1129</td>\n",
       "      <td>2.0</td>\n",
       "      <td>1260759185</td>\n",
       "    </tr>\n",
       "    <tr>\n",
       "      <th>4</th>\n",
       "      <td>1</td>\n",
       "      <td>1172</td>\n",
       "      <td>4.0</td>\n",
       "      <td>1260759205</td>\n",
       "    </tr>\n",
       "  </tbody>\n",
       "</table>\n",
       "</div>"
      ],
      "text/plain": [
       "   userId  movieId  rating   timestamp\n",
       "0       1       31     2.5  1260759144\n",
       "1       1     1029     3.0  1260759179\n",
       "2       1     1061     3.0  1260759182\n",
       "3       1     1129     2.0  1260759185\n",
       "4       1     1172     4.0  1260759205"
      ]
     },
     "execution_count": 121,
     "metadata": {},
     "output_type": "execute_result"
    }
   ],
   "source": [
    "# ratings = pd.read_csv('../data/ratings_small.csv')\n",
    "ratings = pd.read_csv('../data/ratings_small.csv')\n",
    "metadata = pd.read_csv('../data/movies_metadata.csv');\n",
    "ratings.head()"
   ]
  },
  {
   "cell_type": "code",
   "execution_count": 122,
   "metadata": {},
   "outputs": [
    {
     "data": {
      "text/html": [
       "<div>\n",
       "<style scoped>\n",
       "    .dataframe tbody tr th:only-of-type {\n",
       "        vertical-align: middle;\n",
       "    }\n",
       "\n",
       "    .dataframe tbody tr th {\n",
       "        vertical-align: top;\n",
       "    }\n",
       "\n",
       "    .dataframe thead th {\n",
       "        text-align: right;\n",
       "    }\n",
       "</style>\n",
       "<table border=\"1\" class=\"dataframe\">\n",
       "  <thead>\n",
       "    <tr style=\"text-align: right;\">\n",
       "      <th></th>\n",
       "      <th>movieId</th>\n",
       "      <th>rating</th>\n",
       "      <th>timestamp</th>\n",
       "    </tr>\n",
       "    <tr>\n",
       "      <th>userId</th>\n",
       "      <th></th>\n",
       "      <th></th>\n",
       "      <th></th>\n",
       "    </tr>\n",
       "  </thead>\n",
       "  <tbody>\n",
       "    <tr>\n",
       "      <th>1</th>\n",
       "      <td>20</td>\n",
       "      <td>20</td>\n",
       "      <td>20</td>\n",
       "    </tr>\n",
       "    <tr>\n",
       "      <th>2</th>\n",
       "      <td>76</td>\n",
       "      <td>76</td>\n",
       "      <td>76</td>\n",
       "    </tr>\n",
       "    <tr>\n",
       "      <th>3</th>\n",
       "      <td>51</td>\n",
       "      <td>51</td>\n",
       "      <td>51</td>\n",
       "    </tr>\n",
       "    <tr>\n",
       "      <th>4</th>\n",
       "      <td>204</td>\n",
       "      <td>204</td>\n",
       "      <td>204</td>\n",
       "    </tr>\n",
       "    <tr>\n",
       "      <th>5</th>\n",
       "      <td>100</td>\n",
       "      <td>100</td>\n",
       "      <td>100</td>\n",
       "    </tr>\n",
       "    <tr>\n",
       "      <th>...</th>\n",
       "      <td>...</td>\n",
       "      <td>...</td>\n",
       "      <td>...</td>\n",
       "    </tr>\n",
       "    <tr>\n",
       "      <th>667</th>\n",
       "      <td>68</td>\n",
       "      <td>68</td>\n",
       "      <td>68</td>\n",
       "    </tr>\n",
       "    <tr>\n",
       "      <th>668</th>\n",
       "      <td>20</td>\n",
       "      <td>20</td>\n",
       "      <td>20</td>\n",
       "    </tr>\n",
       "    <tr>\n",
       "      <th>669</th>\n",
       "      <td>37</td>\n",
       "      <td>37</td>\n",
       "      <td>37</td>\n",
       "    </tr>\n",
       "    <tr>\n",
       "      <th>670</th>\n",
       "      <td>31</td>\n",
       "      <td>31</td>\n",
       "      <td>31</td>\n",
       "    </tr>\n",
       "    <tr>\n",
       "      <th>671</th>\n",
       "      <td>115</td>\n",
       "      <td>115</td>\n",
       "      <td>115</td>\n",
       "    </tr>\n",
       "  </tbody>\n",
       "</table>\n",
       "<p>671 rows × 3 columns</p>\n",
       "</div>"
      ],
      "text/plain": [
       "        movieId  rating  timestamp\n",
       "userId                            \n",
       "1            20      20         20\n",
       "2            76      76         76\n",
       "3            51      51         51\n",
       "4           204     204        204\n",
       "5           100     100        100\n",
       "...         ...     ...        ...\n",
       "667          68      68         68\n",
       "668          20      20         20\n",
       "669          37      37         37\n",
       "670          31      31         31\n",
       "671         115     115        115\n",
       "\n",
       "[671 rows x 3 columns]"
      ]
     },
     "execution_count": 122,
     "metadata": {},
     "output_type": "execute_result"
    }
   ],
   "source": [
    "ratings.groupby('userId').count()"
   ]
  },
  {
   "cell_type": "code",
   "execution_count": 123,
   "metadata": {},
   "outputs": [
    {
     "name": "stdout",
     "output_type": "stream",
     "text": [
      "Number of users that ranked at least 50 movies, but less than 300 {tmp.size}\n"
     ]
    },
    {
     "data": {
      "text/plain": [
       "<AxesSubplot:>"
      ]
     },
     "execution_count": 123,
     "metadata": {},
     "output_type": "execute_result"
    },
    {
     "data": {
      "image/png": "[encoded data removed]",
      "text/plain": [
       "<Figure size 432x288 with 1 Axes>"
      ]
     },
     "metadata": {
      "needs_background": "light"
     },
     "output_type": "display_data"
    }
   ],
   "source": [
    "tmp = ratings.groupby('userId')['rating'].count()\n",
    "tmp = tmp[(tmp >= 50) & (tmp < 300)]\n",
    "print(\"\"\"Number of users that ranked at least 50 movies, but less than 300 {tmp.size}\"\"\")\n",
    "tmp.hist(bins=100)"
   ]
  },
  {
   "cell_type": "code",
   "execution_count": 124,
   "metadata": {},
   "outputs": [
    {
     "data": {
      "text/html": [
       "<div>\n",
       "<style scoped>\n",
       "    .dataframe tbody tr th:only-of-type {\n",
       "        vertical-align: middle;\n",
       "    }\n",
       "\n",
       "    .dataframe tbody tr th {\n",
       "        vertical-align: top;\n",
       "    }\n",
       "\n",
       "    .dataframe thead th {\n",
       "        text-align: right;\n",
       "    }\n",
       "</style>\n",
       "<table border=\"1\" class=\"dataframe\">\n",
       "  <thead>\n",
       "    <tr style=\"text-align: right;\">\n",
       "      <th></th>\n",
       "      <th>adult</th>\n",
       "      <th>belongs_to_collection</th>\n",
       "      <th>budget</th>\n",
       "      <th>genres</th>\n",
       "      <th>homepage</th>\n",
       "      <th>id</th>\n",
       "      <th>imdb_id</th>\n",
       "      <th>original_language</th>\n",
       "      <th>original_title</th>\n",
       "      <th>overview</th>\n",
       "      <th>...</th>\n",
       "      <th>release_date</th>\n",
       "      <th>revenue</th>\n",
       "      <th>runtime</th>\n",
       "      <th>spoken_languages</th>\n",
       "      <th>status</th>\n",
       "      <th>tagline</th>\n",
       "      <th>title</th>\n",
       "      <th>video</th>\n",
       "      <th>vote_average</th>\n",
       "      <th>vote_count</th>\n",
       "    </tr>\n",
       "  </thead>\n",
       "  <tbody>\n",
       "    <tr>\n",
       "      <th>0</th>\n",
       "      <td>False</td>\n",
       "      <td>{'id': 10194, 'name': 'Toy Story Collection', ...</td>\n",
       "      <td>30000000</td>\n",
       "      <td>[{'id': 16, 'name': 'Animation'}, {'id': 35, '...</td>\n",
       "      <td>http://toystory.disney.com/toy-story</td>\n",
       "      <td>862</td>\n",
       "      <td>tt0114709</td>\n",
       "      <td>en</td>\n",
       "      <td>Toy Story</td>\n",
       "      <td>Led by Woody, Andy's toys live happily in his ...</td>\n",
       "      <td>...</td>\n",
       "      <td>1995-10-30</td>\n",
       "      <td>373554033.0</td>\n",
       "      <td>81.0</td>\n",
       "      <td>[{'iso_639_1': 'en', 'name': 'English'}]</td>\n",
       "      <td>Released</td>\n",
       "      <td>NaN</td>\n",
       "      <td>Toy Story</td>\n",
       "      <td>False</td>\n",
       "      <td>7.7</td>\n",
       "      <td>5415.0</td>\n",
       "    </tr>\n",
       "    <tr>\n",
       "      <th>1</th>\n",
       "      <td>False</td>\n",
       "      <td>NaN</td>\n",
       "      <td>65000000</td>\n",
       "      <td>[{'id': 12, 'name': 'Adventure'}, {'id': 14, '...</td>\n",
       "      <td>NaN</td>\n",
       "      <td>8844</td>\n",
       "      <td>tt0113497</td>\n",
       "      <td>en</td>\n",
       "      <td>Jumanji</td>\n",
       "      <td>When siblings Judy and Peter discover an encha...</td>\n",
       "      <td>...</td>\n",
       "      <td>1995-12-15</td>\n",
       "      <td>262797249.0</td>\n",
       "      <td>104.0</td>\n",
       "      <td>[{'iso_639_1': 'en', 'name': 'English'}, {'iso...</td>\n",
       "      <td>Released</td>\n",
       "      <td>Roll the dice and unleash the excitement!</td>\n",
       "      <td>Jumanji</td>\n",
       "      <td>False</td>\n",
       "      <td>6.9</td>\n",
       "      <td>2413.0</td>\n",
       "    </tr>\n",
       "    <tr>\n",
       "      <th>2</th>\n",
       "      <td>False</td>\n",
       "      <td>{'id': 119050, 'name': 'Grumpy Old Men Collect...</td>\n",
       "      <td>0</td>\n",
       "      <td>[{'id': 10749, 'name': 'Romance'}, {'id': 35, ...</td>\n",
       "      <td>NaN</td>\n",
       "      <td>15602</td>\n",
       "      <td>tt0113228</td>\n",
       "      <td>en</td>\n",
       "      <td>Grumpier Old Men</td>\n",
       "      <td>A family wedding reignites the ancient feud be...</td>\n",
       "      <td>...</td>\n",
       "      <td>1995-12-22</td>\n",
       "      <td>0.0</td>\n",
       "      <td>101.0</td>\n",
       "      <td>[{'iso_639_1': 'en', 'name': 'English'}]</td>\n",
       "      <td>Released</td>\n",
       "      <td>Still Yelling. Still Fighting. Still Ready for...</td>\n",
       "      <td>Grumpier Old Men</td>\n",
       "      <td>False</td>\n",
       "      <td>6.5</td>\n",
       "      <td>92.0</td>\n",
       "    </tr>\n",
       "    <tr>\n",
       "      <th>3</th>\n",
       "      <td>False</td>\n",
       "      <td>NaN</td>\n",
       "      <td>16000000</td>\n",
       "      <td>[{'id': 35, 'name': 'Comedy'}, {'id': 18, 'nam...</td>\n",
       "      <td>NaN</td>\n",
       "      <td>31357</td>\n",
       "      <td>tt0114885</td>\n",
       "      <td>en</td>\n",
       "      <td>Waiting to Exhale</td>\n",
       "      <td>Cheated on, mistreated and stepped on, the wom...</td>\n",
       "      <td>...</td>\n",
       "      <td>1995-12-22</td>\n",
       "      <td>81452156.0</td>\n",
       "      <td>127.0</td>\n",
       "      <td>[{'iso_639_1': 'en', 'name': 'English'}]</td>\n",
       "      <td>Released</td>\n",
       "      <td>Friends are the people who let you be yourself...</td>\n",
       "      <td>Waiting to Exhale</td>\n",
       "      <td>False</td>\n",
       "      <td>6.1</td>\n",
       "      <td>34.0</td>\n",
       "    </tr>\n",
       "    <tr>\n",
       "      <th>4</th>\n",
       "      <td>False</td>\n",
       "      <td>{'id': 96871, 'name': 'Father of the Bride Col...</td>\n",
       "      <td>0</td>\n",
       "      <td>[{'id': 35, 'name': 'Comedy'}]</td>\n",
       "      <td>NaN</td>\n",
       "      <td>11862</td>\n",
       "      <td>tt0113041</td>\n",
       "      <td>en</td>\n",
       "      <td>Father of the Bride Part II</td>\n",
       "      <td>Just when George Banks has recovered from his ...</td>\n",
       "      <td>...</td>\n",
       "      <td>1995-02-10</td>\n",
       "      <td>76578911.0</td>\n",
       "      <td>106.0</td>\n",
       "      <td>[{'iso_639_1': 'en', 'name': 'English'}]</td>\n",
       "      <td>Released</td>\n",
       "      <td>Just When His World Is Back To Normal... He's ...</td>\n",
       "      <td>Father of the Bride Part II</td>\n",
       "      <td>False</td>\n",
       "      <td>5.7</td>\n",
       "      <td>173.0</td>\n",
       "    </tr>\n",
       "    <tr>\n",
       "      <th>...</th>\n",
       "      <td>...</td>\n",
       "      <td>...</td>\n",
       "      <td>...</td>\n",
       "      <td>...</td>\n",
       "      <td>...</td>\n",
       "      <td>...</td>\n",
       "      <td>...</td>\n",
       "      <td>...</td>\n",
       "      <td>...</td>\n",
       "      <td>...</td>\n",
       "      <td>...</td>\n",
       "      <td>...</td>\n",
       "      <td>...</td>\n",
       "      <td>...</td>\n",
       "      <td>...</td>\n",
       "      <td>...</td>\n",
       "      <td>...</td>\n",
       "      <td>...</td>\n",
       "      <td>...</td>\n",
       "      <td>...</td>\n",
       "      <td>...</td>\n",
       "    </tr>\n",
       "    <tr>\n",
       "      <th>45380</th>\n",
       "      <td>False</td>\n",
       "      <td>NaN</td>\n",
       "      <td>0</td>\n",
       "      <td>[{'id': 10749, 'name': 'Romance'}, {'id': 35, ...</td>\n",
       "      <td>https://www.netflix.com/title/80171022</td>\n",
       "      <td>432789</td>\n",
       "      <td>tt5990342</td>\n",
       "      <td>en</td>\n",
       "      <td>The Incredible Jessica James</td>\n",
       "      <td>Burned by a bad breakup, a struggling New York...</td>\n",
       "      <td>...</td>\n",
       "      <td>2017-01-27</td>\n",
       "      <td>0.0</td>\n",
       "      <td>83.0</td>\n",
       "      <td>[{'iso_639_1': 'en', 'name': 'English'}]</td>\n",
       "      <td>Released</td>\n",
       "      <td>Likes are easy, love is hard.</td>\n",
       "      <td>The Incredible Jessica James</td>\n",
       "      <td>False</td>\n",
       "      <td>6.2</td>\n",
       "      <td>37.0</td>\n",
       "    </tr>\n",
       "    <tr>\n",
       "      <th>45437</th>\n",
       "      <td>False</td>\n",
       "      <td>NaN</td>\n",
       "      <td>0</td>\n",
       "      <td>[{'id': 10751, 'name': 'Family'}, {'id': 16, '...</td>\n",
       "      <td>NaN</td>\n",
       "      <td>455661</td>\n",
       "      <td>tt6969946</td>\n",
       "      <td>en</td>\n",
       "      <td>In a Heartbeat</td>\n",
       "      <td>A closeted boy runs the risk of being outed by...</td>\n",
       "      <td>...</td>\n",
       "      <td>2017-06-01</td>\n",
       "      <td>0.0</td>\n",
       "      <td>4.0</td>\n",
       "      <td>[{'iso_639_1': 'en', 'name': 'English'}]</td>\n",
       "      <td>Released</td>\n",
       "      <td>The Heart Wants What The Heart Wants</td>\n",
       "      <td>In a Heartbeat</td>\n",
       "      <td>False</td>\n",
       "      <td>8.3</td>\n",
       "      <td>146.0</td>\n",
       "    </tr>\n",
       "    <tr>\n",
       "      <th>45441</th>\n",
       "      <td>False</td>\n",
       "      <td>NaN</td>\n",
       "      <td>0</td>\n",
       "      <td>[{'id': 35, 'name': 'Comedy'}]</td>\n",
       "      <td>NaN</td>\n",
       "      <td>14008</td>\n",
       "      <td>tt0294425</td>\n",
       "      <td>en</td>\n",
       "      <td>Cadet Kelly</td>\n",
       "      <td>Hyperactive teenager Kelly is enrolled into a ...</td>\n",
       "      <td>...</td>\n",
       "      <td>2002-03-07</td>\n",
       "      <td>0.0</td>\n",
       "      <td>101.0</td>\n",
       "      <td>[{'iso_639_1': 'en', 'name': 'English'}]</td>\n",
       "      <td>Released</td>\n",
       "      <td>Too Cool For The Rules!</td>\n",
       "      <td>Cadet Kelly</td>\n",
       "      <td>False</td>\n",
       "      <td>5.2</td>\n",
       "      <td>145.0</td>\n",
       "    </tr>\n",
       "    <tr>\n",
       "      <th>45443</th>\n",
       "      <td>False</td>\n",
       "      <td>NaN</td>\n",
       "      <td>0</td>\n",
       "      <td>[{'id': 35, 'name': 'Comedy'}, {'id': 14, 'nam...</td>\n",
       "      <td>NaN</td>\n",
       "      <td>49279</td>\n",
       "      <td>tt0000359</td>\n",
       "      <td>fr</td>\n",
       "      <td>L'Homme à la tête de caoutchouc</td>\n",
       "      <td>A chemist in his laboratory places upon a tabl...</td>\n",
       "      <td>...</td>\n",
       "      <td>1901-01-01</td>\n",
       "      <td>0.0</td>\n",
       "      <td>3.0</td>\n",
       "      <td>[]</td>\n",
       "      <td>Released</td>\n",
       "      <td>NaN</td>\n",
       "      <td>The Man with the Rubber Head</td>\n",
       "      <td>False</td>\n",
       "      <td>7.6</td>\n",
       "      <td>29.0</td>\n",
       "    </tr>\n",
       "    <tr>\n",
       "      <th>45460</th>\n",
       "      <td>False</td>\n",
       "      <td>NaN</td>\n",
       "      <td>0</td>\n",
       "      <td>[{'id': 18, 'name': 'Drama'}, {'id': 28, 'name...</td>\n",
       "      <td>NaN</td>\n",
       "      <td>30840</td>\n",
       "      <td>tt0102797</td>\n",
       "      <td>en</td>\n",
       "      <td>Robin Hood</td>\n",
       "      <td>Yet another version of the classic epic, with ...</td>\n",
       "      <td>...</td>\n",
       "      <td>1991-05-13</td>\n",
       "      <td>0.0</td>\n",
       "      <td>104.0</td>\n",
       "      <td>[{'iso_639_1': 'en', 'name': 'English'}]</td>\n",
       "      <td>Released</td>\n",
       "      <td>NaN</td>\n",
       "      <td>Robin Hood</td>\n",
       "      <td>False</td>\n",
       "      <td>5.7</td>\n",
       "      <td>26.0</td>\n",
       "    </tr>\n",
       "  </tbody>\n",
       "</table>\n",
       "<p>13810 rows × 24 columns</p>\n",
       "</div>"
      ],
      "text/plain": [
       "       adult                              belongs_to_collection    budget  \\\n",
       "0      False  {'id': 10194, 'name': 'Toy Story Collection', ...  30000000   \n",
       "1      False                                                NaN  65000000   \n",
       "2      False  {'id': 119050, 'name': 'Grumpy Old Men Collect...         0   \n",
       "3      False                                                NaN  16000000   \n",
       "4      False  {'id': 96871, 'name': 'Father of the Bride Col...         0   \n",
       "...      ...                                                ...       ...   \n",
       "45380  False                                                NaN         0   \n",
       "45437  False                                                NaN         0   \n",
       "45441  False                                                NaN         0   \n",
       "45443  False                                                NaN         0   \n",
       "45460  False                                                NaN         0   \n",
       "\n",
       "                                                  genres  \\\n",
       "0      [{'id': 16, 'name': 'Animation'}, {'id': 35, '...   \n",
       "1      [{'id': 12, 'name': 'Adventure'}, {'id': 14, '...   \n",
       "2      [{'id': 10749, 'name': 'Romance'}, {'id': 35, ...   \n",
       "3      [{'id': 35, 'name': 'Comedy'}, {'id': 18, 'nam...   \n",
       "4                         [{'id': 35, 'name': 'Comedy'}]   \n",
       "...                                                  ...   \n",
       "45380  [{'id': 10749, 'name': 'Romance'}, {'id': 35, ...   \n",
       "45437  [{'id': 10751, 'name': 'Family'}, {'id': 16, '...   \n",
       "45441                     [{'id': 35, 'name': 'Comedy'}]   \n",
       "45443  [{'id': 35, 'name': 'Comedy'}, {'id': 14, 'nam...   \n",
       "45460  [{'id': 18, 'name': 'Drama'}, {'id': 28, 'name...   \n",
       "\n",
       "                                     homepage      id    imdb_id  \\\n",
       "0        http://toystory.disney.com/toy-story     862  tt0114709   \n",
       "1                                         NaN    8844  tt0113497   \n",
       "2                                         NaN   15602  tt0113228   \n",
       "3                                         NaN   31357  tt0114885   \n",
       "4                                         NaN   11862  tt0113041   \n",
       "...                                       ...     ...        ...   \n",
       "45380  https://www.netflix.com/title/80171022  432789  tt5990342   \n",
       "45437                                     NaN  455661  tt6969946   \n",
       "45441                                     NaN   14008  tt0294425   \n",
       "45443                                     NaN   49279  tt0000359   \n",
       "45460                                     NaN   30840  tt0102797   \n",
       "\n",
       "      original_language                   original_title  \\\n",
       "0                    en                        Toy Story   \n",
       "1                    en                          Jumanji   \n",
       "2                    en                 Grumpier Old Men   \n",
       "3                    en                Waiting to Exhale   \n",
       "4                    en      Father of the Bride Part II   \n",
       "...                 ...                              ...   \n",
       "45380                en     The Incredible Jessica James   \n",
       "45437                en                   In a Heartbeat   \n",
       "45441                en                      Cadet Kelly   \n",
       "45443                fr  L'Homme à la tête de caoutchouc   \n",
       "45460                en                       Robin Hood   \n",
       "\n",
       "                                                overview  ... release_date  \\\n",
       "0      Led by Woody, Andy's toys live happily in his ...  ...   1995-10-30   \n",
       "1      When siblings Judy and Peter discover an encha...  ...   1995-12-15   \n",
       "2      A family wedding reignites the ancient feud be...  ...   1995-12-22   \n",
       "3      Cheated on, mistreated and stepped on, the wom...  ...   1995-12-22   \n",
       "4      Just when George Banks has recovered from his ...  ...   1995-02-10   \n",
       "...                                                  ...  ...          ...   \n",
       "45380  Burned by a bad breakup, a struggling New York...  ...   2017-01-27   \n",
       "45437  A closeted boy runs the risk of being outed by...  ...   2017-06-01   \n",
       "45441  Hyperactive teenager Kelly is enrolled into a ...  ...   2002-03-07   \n",
       "45443  A chemist in his laboratory places upon a tabl...  ...   1901-01-01   \n",
       "45460  Yet another version of the classic epic, with ...  ...   1991-05-13   \n",
       "\n",
       "           revenue runtime                                   spoken_languages  \\\n",
       "0      373554033.0    81.0           [{'iso_639_1': 'en', 'name': 'English'}]   \n",
       "1      262797249.0   104.0  [{'iso_639_1': 'en', 'name': 'English'}, {'iso...   \n",
       "2              0.0   101.0           [{'iso_639_1': 'en', 'name': 'English'}]   \n",
       "3       81452156.0   127.0           [{'iso_639_1': 'en', 'name': 'English'}]   \n",
       "4       76578911.0   106.0           [{'iso_639_1': 'en', 'name': 'English'}]   \n",
       "...            ...     ...                                                ...   \n",
       "45380          0.0    83.0           [{'iso_639_1': 'en', 'name': 'English'}]   \n",
       "45437          0.0     4.0           [{'iso_639_1': 'en', 'name': 'English'}]   \n",
       "45441          0.0   101.0           [{'iso_639_1': 'en', 'name': 'English'}]   \n",
       "45443          0.0     3.0                                                 []   \n",
       "45460          0.0   104.0           [{'iso_639_1': 'en', 'name': 'English'}]   \n",
       "\n",
       "         status                                            tagline  \\\n",
       "0      Released                                                NaN   \n",
       "1      Released          Roll the dice and unleash the excitement!   \n",
       "2      Released  Still Yelling. Still Fighting. Still Ready for...   \n",
       "3      Released  Friends are the people who let you be yourself...   \n",
       "4      Released  Just When His World Is Back To Normal... He's ...   \n",
       "...         ...                                                ...   \n",
       "45380  Released                      Likes are easy, love is hard.   \n",
       "45437  Released               The Heart Wants What The Heart Wants   \n",
       "45441  Released                            Too Cool For The Rules!   \n",
       "45443  Released                                                NaN   \n",
       "45460  Released                                                NaN   \n",
       "\n",
       "                              title  video vote_average vote_count  \n",
       "0                         Toy Story  False          7.7     5415.0  \n",
       "1                           Jumanji  False          6.9     2413.0  \n",
       "2                  Grumpier Old Men  False          6.5       92.0  \n",
       "3                 Waiting to Exhale  False          6.1       34.0  \n",
       "4       Father of the Bride Part II  False          5.7      173.0  \n",
       "...                             ...    ...          ...        ...  \n",
       "45380  The Incredible Jessica James  False          6.2       37.0  \n",
       "45437                In a Heartbeat  False          8.3      146.0  \n",
       "45441                   Cadet Kelly  False          5.2      145.0  \n",
       "45443  The Man with the Rubber Head  False          7.6       29.0  \n",
       "45460                    Robin Hood  False          5.7       26.0  \n",
       "\n",
       "[13810 rows x 24 columns]"
      ]
     },
     "execution_count": 124,
     "metadata": {},
     "output_type": "execute_result"
    }
   ],
   "source": [
    "percentileCutoff: float = metadata.vote_count.quantile(0.7)\n",
    "metadata = metadata[metadata['vote_count'] >= percentileCutoff]\n",
    "metadata"
   ]
  },
  {
   "cell_type": "code",
   "execution_count": 169,
   "metadata": {},
   "outputs": [],
   "source": [
    "class CMovie:\n",
    "    def __init__(self, id: str, title: str, genres: Set[str]):\n",
    "        self.id = id\n",
    "        self.title = title\n",
    "        self.genres = genres\n",
    "\n",
    "    def isGenre(self, genre: str):\n",
    "        return genre in self.genres\n",
    "\n",
    "    @staticmethod\n",
    "    def extractGenres(rawObject: str) -> Set[str]:\n",
    "        result: Set[str] = set()\n",
    "        arr = literal_eval(rawObject)\n",
    "        for genre in arr:\n",
    "            result.add(genre['name'])\n",
    "        return result\n",
    "\n",
    "class CUser:\n",
    "    def __init__(self, id: int) -> None:\n",
    "        self.id = id\n",
    "        self.countByGenre: Dict[str, float] = defaultdict(float)\n",
    "        self.zScoreByGenre: Dict[str, float] = defaultdict(float)\n",
    "        self.totalRatings = None\n",
    "        self.totalZScore = None\n",
    "\n",
    "    def countRatingsByGenres(self, ratingsDf, Movies: Dict[str, CMovie]):\n",
    "        self.countByGenre = defaultdict(int)\n",
    "        self.totalRatings = 0;\n",
    "        # TODO highly ineffective - scans all ratings for each user\n",
    "        for index, row in ratingsDf[ratingsDf.userId == self.id].iterrows():\n",
    "            if row.movieId not in Movies:\n",
    "                continue\n",
    "            for genre in Movies[row.movieId].genres:\n",
    "                self.countByGenre[genre] += 1 / len(Movies[row.movieId].genres)\n",
    "                self.totalRatings +=1"
   ]
  },
  {
   "cell_type": "code",
   "execution_count": 170,
   "metadata": {},
   "outputs": [],
   "source": [
    "Movies: Dict[str, CMovie] = {}\n",
    "\n",
    "for index, row in metadata.iterrows():\n",
    "    Movies[row.id] = CMovie(\n",
    "        id=row.imdb_id,\n",
    "        title=row.title,\n",
    "        genres=CMovie.extractGenres(row.genres)\n",
    "    )\n",
    "\n",
    "len(Movies)\n",
    "\n",
    "Users: Dict[int, CUser] = {}\n",
    "for index, row in ratings.iterrows():\n",
    "    if row.userId not in Users:\n",
    "        Users[row.userId] = CUser(id=row.userId)"
   ]
  },
  {
   "cell_type": "code",
   "execution_count": 171,
   "metadata": {},
   "outputs": [],
   "source": [
    "usersTotalRatings = []\n",
    "for user in Users.values():\n",
    "    user.countRatingsByGenres(ratings, Movies)\n",
    "    usersTotalRatings.append(user.totalRatings)"
   ]
  },
  {
   "cell_type": "code",
   "execution_count": 172,
   "metadata": {},
   "outputs": [
    {
     "name": "stdout",
     "output_type": "stream",
     "text": [
      "count     671.000000\n",
      "mean      134.847988\n",
      "std       181.454935\n",
      "min         5.000000\n",
      "25%        41.500000\n",
      "50%        73.000000\n",
      "75%       155.500000\n",
      "max      1911.000000\n",
      "dtype: float64\n",
      "count    535.000000\n",
      "mean      96.185047\n",
      "std       65.966180\n",
      "min       22.000000\n",
      "25%       45.000000\n",
      "50%       73.000000\n",
      "75%      131.500000\n",
      "max      281.000000\n",
      "dtype: float64\n"
     ]
    },
    {
     "data": {
      "text/plain": [
       "<AxesSubplot:>"
      ]
     },
     "execution_count": 172,
     "metadata": {},
     "output_type": "execute_result"
    },
    {
     "data": {
      "image/png": "[encoded data removed]",
      "text/plain": [
       "<Figure size 432x288 with 1 Axes>"
      ]
     },
     "metadata": {
      "needs_background": "light"
     },
     "output_type": "display_data"
    }
   ],
   "source": [
    "# constructing scale based only on number of watched movies\n",
    "tmpSeries = pd.Series(usersTotalRatings)\n",
    "print(tmpSeries.describe())\n",
    "minThreshold = tmpSeries.quantile(0.1)\n",
    "maxThreshold = tmpSeries.quantile(0.9)\n",
    "tmpSeries = tmpSeries[(tmpSeries > minThreshold) & (tmpSeries < maxThreshold)]\n",
    "print(tmpSeries.describe())\n",
    "tmpSeries.hist()"
   ]
  },
  {
   "cell_type": "code",
   "execution_count": 192,
   "metadata": {},
   "outputs": [
    {
     "name": "stdout",
     "output_type": "stream",
     "text": [
      "Science Fiction \n",
      "\n",
      "count    671.000000\n",
      "mean       0.016982\n",
      "std        0.010495\n",
      "min        0.000000\n",
      "25%        0.011546\n",
      "50%        0.015815\n",
      "75%        0.020758\n",
      "max        0.083333\n",
      "dtype: float64\n"
     ]
    },
    {
     "data": {
      "image/png": "[encoded data removed]",
      "text/plain": [
       "<Figure size 432x288 with 1 Axes>"
      ]
     },
     "metadata": {
      "needs_background": "light"
     },
     "output_type": "display_data"
    },
    {
     "name": "stdout",
     "output_type": "stream",
     "text": [
      "Action \n",
      "\n",
      "count    671.000000\n",
      "mean       0.028131\n",
      "std        0.011400\n",
      "min        0.000000\n",
      "25%        0.022602\n",
      "50%        0.027451\n",
      "75%        0.031895\n",
      "max        0.125000\n",
      "dtype: float64\n"
     ]
    },
    {
     "data": {
      "image/png": "[encoded data removed]",
      "text/plain": [
       "<Figure size 432x288 with 1 Axes>"
      ]
     },
     "metadata": {
      "needs_background": "light"
     },
     "output_type": "display_data"
    },
    {
     "name": "stdout",
     "output_type": "stream",
     "text": [
      "Drama \n",
      "\n",
      "count    671.000000\n",
      "mean       0.110366\n",
      "std        0.031574\n",
      "min        0.000000\n",
      "25%        0.092987\n",
      "50%        0.106643\n",
      "75%        0.125000\n",
      "max        0.293478\n",
      "dtype: float64\n"
     ]
    },
    {
     "data": {
      "image/png": "[encoded data removed]",
      "text/plain": [
       "<Figure size 432x288 with 1 Axes>"
      ]
     },
     "metadata": {
      "needs_background": "light"
     },
     "output_type": "display_data"
    },
    {
     "name": "stdout",
     "output_type": "stream",
     "text": [
      "Thriller \n",
      "\n",
      "count    671.000000\n",
      "mean       0.038565\n",
      "std        0.014890\n",
      "min        0.000000\n",
      "25%        0.031145\n",
      "50%        0.037179\n",
      "75%        0.043301\n",
      "max        0.166667\n",
      "dtype: float64\n"
     ]
    },
    {
     "data": {
      "image/png": "[encoded data removed]",
      "text/plain": [
       "<Figure size 432x288 with 1 Axes>"
      ]
     },
     "metadata": {
      "needs_background": "light"
     },
     "output_type": "display_data"
    },
    {
     "name": "stdout",
     "output_type": "stream",
     "text": [
      "Adventure \n",
      "\n",
      "count    671.000000\n",
      "mean       0.019684\n",
      "std        0.010298\n",
      "min        0.000000\n",
      "25%        0.014366\n",
      "50%        0.019174\n",
      "75%        0.024025\n",
      "max        0.095238\n",
      "dtype: float64\n"
     ]
    },
    {
     "data": {
      "image/png": "[encoded data removed]",
      "text/plain": [
       "<Figure size 432x288 with 1 Axes>"
      ]
     },
     "metadata": {
      "needs_background": "light"
     },
     "output_type": "display_data"
    },
    {
     "name": "stdout",
     "output_type": "stream",
     "text": [
      "Fantasy \n",
      "\n",
      "count    671.000000\n",
      "mean       0.011489\n",
      "std        0.007624\n",
      "min        0.000000\n",
      "25%        0.007353\n",
      "50%        0.011218\n",
      "75%        0.015292\n",
      "max        0.047619\n",
      "dtype: float64\n"
     ]
    },
    {
     "data": {
      "image/png": "[encoded data removed]",
      "text/plain": [
       "<Figure size 432x288 with 1 Axes>"
      ]
     },
     "metadata": {
      "needs_background": "light"
     },
     "output_type": "display_data"
    },
    {
     "name": "stdout",
     "output_type": "stream",
     "text": [
      "Comedy \n",
      "\n",
      "count    671.000000\n",
      "mean       0.050731\n",
      "std        0.025360\n",
      "min        0.000000\n",
      "25%        0.035994\n",
      "50%        0.047830\n",
      "75%        0.059112\n",
      "max        0.228571\n",
      "dtype: float64\n"
     ]
    },
    {
     "data": {
      "image/png": "[encoded data removed]",
      "text/plain": [
       "<Figure size 432x288 with 1 Axes>"
      ]
     },
     "metadata": {
      "needs_background": "light"
     },
     "output_type": "display_data"
    },
    {
     "name": "stdout",
     "output_type": "stream",
     "text": [
      "Horror \n",
      "\n",
      "count    671.000000\n",
      "mean       0.013989\n",
      "std        0.011928\n",
      "min        0.000000\n",
      "25%        0.006536\n",
      "50%        0.012528\n",
      "75%        0.019685\n",
      "max        0.083333\n",
      "dtype: float64\n"
     ]
    },
    {
     "data": {
      "image/png": "[encoded data removed]",
      "text/plain": [
       "<Figure size 432x288 with 1 Axes>"
      ]
     },
     "metadata": {
      "needs_background": "light"
     },
     "output_type": "display_data"
    }
   ],
   "source": [
    "for GENRE_NAME in SelectedGenres:\n",
    "    tmpSeries = []\n",
    "\n",
    "    print(GENRE_NAME, \"\\n\")\n",
    "\n",
    "    for user in Users.values():\n",
    "        tmpSeries.append(user.countByGenre[GENRE_NAME]/user.totalRatings)\n",
    "\n",
    "    tmpSeries = pd.Series(tmpSeries)\n",
    "    print(tmpSeries.describe())\n",
    "\n",
    "    mean = tmpSeries.mean()\n",
    "    std = tmpSeries.std()\n",
    "    for user in Users.values():\n",
    "        tmpZScore = (user.countByGenre[GENRE_NAME]/user.totalRatings - mean) / std\n",
    "        tmpZScore = min(tmpZScore, 3)\n",
    "        tmpZScore = max(tmpZScore, -3)\n",
    "        user.zScoreByGenre[GENRE_NAME] = tmpZScore\n",
    "\n",
    "    plot = plt.hist(pd.Series(map(lambda user: user.zScoreByGenre[GENRE_NAME], Users.values())))\n",
    "    plt.show()"
   ]
  },
  {
   "cell_type": "code",
   "execution_count": 176,
   "metadata": {},
   "outputs": [
    {
     "data": {
      "text/plain": [
       "0      0.000000\n",
       "1      0.025397\n",
       "2      0.022321\n",
       "3      0.029552\n",
       "4      0.028741\n",
       "         ...   \n",
       "666    0.029195\n",
       "667    0.046667\n",
       "668    0.010753\n",
       "669    0.010465\n",
       "670    0.027451\n",
       "Length: 671, dtype: float64"
      ]
     },
     "execution_count": 176,
     "metadata": {},
     "output_type": "execute_result"
    }
   ],
   "source": []
  },
  {
   "cell_type": "code",
   "execution_count": null,
   "metadata": {},
   "outputs": [],
   "source": [
    "########################################################################################"
   ]
  },
  {
   "cell_type": "code",
   "execution_count": 135,
   "metadata": {},
   "outputs": [
    {
     "data": {
      "text/html": [
       "<div>\n",
       "<style scoped>\n",
       "    .dataframe tbody tr th:only-of-type {\n",
       "        vertical-align: middle;\n",
       "    }\n",
       "\n",
       "    .dataframe tbody tr th {\n",
       "        vertical-align: top;\n",
       "    }\n",
       "\n",
       "    .dataframe thead th {\n",
       "        text-align: right;\n",
       "    }\n",
       "</style>\n",
       "<table border=\"1\" class=\"dataframe\">\n",
       "  <thead>\n",
       "    <tr style=\"text-align: right;\">\n",
       "      <th></th>\n",
       "      <th>userId</th>\n",
       "      <th>movieId</th>\n",
       "      <th>rating</th>\n",
       "      <th>timestamp</th>\n",
       "    </tr>\n",
       "  </thead>\n",
       "  <tbody>\n",
       "    <tr>\n",
       "      <th>10</th>\n",
       "      <td>1</td>\n",
       "      <td>1371</td>\n",
       "      <td>2.5</td>\n",
       "      <td>1260759135</td>\n",
       "    </tr>\n",
       "    <tr>\n",
       "      <th>11</th>\n",
       "      <td>1</td>\n",
       "      <td>1405</td>\n",
       "      <td>1.0</td>\n",
       "      <td>1260759203</td>\n",
       "    </tr>\n",
       "    <tr>\n",
       "      <th>13</th>\n",
       "      <td>1</td>\n",
       "      <td>2105</td>\n",
       "      <td>4.0</td>\n",
       "      <td>1260759139</td>\n",
       "    </tr>\n",
       "    <tr>\n",
       "      <th>16</th>\n",
       "      <td>1</td>\n",
       "      <td>2294</td>\n",
       "      <td>2.0</td>\n",
       "      <td>1260759108</td>\n",
       "    </tr>\n",
       "    <tr>\n",
       "      <th>17</th>\n",
       "      <td>1</td>\n",
       "      <td>2455</td>\n",
       "      <td>2.5</td>\n",
       "      <td>1260759113</td>\n",
       "    </tr>\n",
       "    <tr>\n",
       "      <th>...</th>\n",
       "      <td>...</td>\n",
       "      <td>...</td>\n",
       "      <td>...</td>\n",
       "      <td>...</td>\n",
       "    </tr>\n",
       "    <tr>\n",
       "      <th>99978</th>\n",
       "      <td>671</td>\n",
       "      <td>4886</td>\n",
       "      <td>5.0</td>\n",
       "      <td>1064245488</td>\n",
       "    </tr>\n",
       "    <tr>\n",
       "      <th>99981</th>\n",
       "      <td>671</td>\n",
       "      <td>4973</td>\n",
       "      <td>4.5</td>\n",
       "      <td>1064245471</td>\n",
       "    </tr>\n",
       "    <tr>\n",
       "      <th>99983</th>\n",
       "      <td>671</td>\n",
       "      <td>4995</td>\n",
       "      <td>4.0</td>\n",
       "      <td>1064891537</td>\n",
       "    </tr>\n",
       "    <tr>\n",
       "      <th>99993</th>\n",
       "      <td>671</td>\n",
       "      <td>5902</td>\n",
       "      <td>3.5</td>\n",
       "      <td>1064245507</td>\n",
       "    </tr>\n",
       "    <tr>\n",
       "      <th>99996</th>\n",
       "      <td>671</td>\n",
       "      <td>5991</td>\n",
       "      <td>4.5</td>\n",
       "      <td>1064245387</td>\n",
       "    </tr>\n",
       "  </tbody>\n",
       "</table>\n",
       "<p>35213 rows × 4 columns</p>\n",
       "</div>"
      ],
      "text/plain": [
       "       userId movieId  rating   timestamp\n",
       "10          1    1371     2.5  1260759135\n",
       "11          1    1405     1.0  1260759203\n",
       "13          1    2105     4.0  1260759139\n",
       "16          1    2294     2.0  1260759108\n",
       "17          1    2455     2.5  1260759113\n",
       "...       ...     ...     ...         ...\n",
       "99978     671    4886     5.0  1064245488\n",
       "99981     671    4973     4.5  1064245471\n",
       "99983     671    4995     4.0  1064891537\n",
       "99993     671    5902     3.5  1064245507\n",
       "99996     671    5991     4.5  1064245387\n",
       "\n",
       "[35213 rows x 4 columns]"
      ]
     },
     "execution_count": 135,
     "metadata": {},
     "output_type": "execute_result"
    }
   ],
   "source": [
    "ratings.movieId = ratings.movieId.astype(str)\n",
    "tmpMask = ratings.movieId.isin(Movies.keys())\n",
    "ratings = ratings[tmpMask]\n",
    "ratings"
   ]
  },
  {
   "cell_type": "code",
   "execution_count": 128,
   "metadata": {},
   "outputs": [
    {
     "data": {
      "text/plain": [
       "defaultdict(int,\n",
       "            {'Comedy': 4760,\n",
       "             'Family': 1250,\n",
       "             'Animation': 911,\n",
       "             'Fantasy': 1121,\n",
       "             'Adventure': 1763,\n",
       "             'Romance': 2229,\n",
       "             'Drama': 6512,\n",
       "             'Crime': 1843,\n",
       "             'Thriller': 3546,\n",
       "             'Action': 2895,\n",
       "             'Horror': 2005,\n",
       "             'History': 514,\n",
       "             'Science Fiction': 1436,\n",
       "             'Mystery': 1015,\n",
       "             'War': 418,\n",
       "             'Music': 437,\n",
       "             'Documentary': 440,\n",
       "             'Foreign': 63,\n",
       "             'Western': 248,\n",
       "             'TV Movie': 144})"
      ]
     },
     "execution_count": 128,
     "metadata": {},
     "output_type": "execute_result"
    }
   ],
   "source": [
    "genresHist = defaultdict(int)\n",
    "for movie in Movies.values():\n",
    "    for genre in movie.genres:\n",
    "        genresHist[genre] += 1\n",
    "genresHist"
   ]
  },
  {
   "cell_type": "code",
   "execution_count": 136,
   "metadata": {},
   "outputs": [
    {
     "data": {
      "text/plain": [
       "671"
      ]
     },
     "execution_count": 136,
     "metadata": {},
     "output_type": "execute_result"
    }
   ],
   "source": [
    "len(Users)"
   ]
  },
  {
   "cell_type": "code",
   "execution_count": 130,
   "metadata": {},
   "outputs": [
    {
     "data": {
      "text/plain": [
       "userId         int64\n",
       "movieId       object\n",
       "rating       float64\n",
       "timestamp      int64\n",
       "dtype: object"
      ]
     },
     "execution_count": 130,
     "metadata": {},
     "output_type": "execute_result"
    }
   ],
   "source": [
    "ratings.dtypes"
   ]
  }
 ],
 "metadata": {
  "kernelspec": {
   "display_name": "Python 3.8.8 ('base')",
   "language": "python",
   "name": "python3"
  },
  "language_info": {
   "codemirror_mode": {
    "name": "ipython",
    "version": 3
   },
   "file_extension": ".py",
   "mimetype": "text/x-python",
   "name": "python",
   "nbconvert_exporter": "python",
   "pygments_lexer": "ipython3",
   "version": "3.8.8"
  },
  "orig_nbformat": 4,
  "vscode": {
   "interpreter": {
    "hash": "c4cb5ea997ead17442bf9c555309f37af2a086932c529a27287d4cd74e84eddc"
   }
  }
 },
 "nbformat": 4,
 "nbformat_minor": 2
}
